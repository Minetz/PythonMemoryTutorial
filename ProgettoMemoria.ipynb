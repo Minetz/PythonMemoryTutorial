{
 "metadata": {
  "name": "",
  "signature": "sha256:dbacf15994e296d88238783cc5526cd2e857d62714b5597ba3cd735fb291b141"
 },
 "nbformat": 3,
 "nbformat_minor": 0,
 "worksheets": [
  {
   "cells": [
    {
     "cell_type": "code",
     "collapsed": false,
     "input": [
      "#QUESTA CASELLA DARA' SEMPRE ERRORE SE LA COMPILATE POICHE' E' IN C\n",
      "\n",
      "# In questo tutorial affronteremo due argomenti: La memoria in Python\n",
      "# e l'implementazione delle funzioni C in Python\n",
      "\n",
      "\n",
      "\n",
      "#Prima di tutto dobbiamo costruire le nostre funzioni C e associarle a funzioni Python\n",
      "\n",
      "#Quello che state per vedere e' un file che salveremo come exmodmodule.c; ovvero\n",
      "# non deve essere compilato in Python, futuri commenti saranno espressi da //\n",
      "\n",
      "#include <Python.h>\n",
      "\n",
      "//Definiamo un nuovo modulo con il rispettivo errore\n",
      "\n",
      "static PyObject*exmodError;\n",
      "\n",
      "//Definiamo una funzione somma che prende come input 2 numeri\n",
      "\n",
      "static PyObject* exmod_somma(PyObject *self, PyObject *args){\n",
      "\n",
      "\tdouble a,b;\n",
      "\tdouble sts=0;\n",
      "\n",
      "\tif(!PyArg_ParseTuple(args, \"dd\", &a, &b)){\n",
      "\t\treturn NULL;\n",
      "\t}\n",
      "\t\n",
      "\tsts = a + b;\n",
      "\tprintf(\"Siamo in C\\nSomma di %f + %f = %f \\n\",a,b,sts);\n",
      "\n",
      "\treturn Py_BuildValue(\"f\", a + b);\n",
      "}\n",
      "\n",
      "//Definiamo una funzione capace di elevare al quadrato un numero\n",
      "\n",
      "static PyObject* exmod_quadrato(PyObject *self, PyObject *args){\n",
      "\n",
      "\tdouble a;\n",
      "\tdouble sq=0;\n",
      "\n",
      "\n",
      "\tif(!PyArg_ParseTuple(args, \"d\", &a)){\n",
      "\t\treturn NULL;\n",
      "\t}\n",
      "\t\n",
      "\tsq = a*a;\n",
      "\tprintf(\"Siamo in C\\n Il quadrato di %f = %f \\n\",a,sq);\n",
      "\n",
      "\treturn Py_BuildValue(\"f\", sq);\n",
      "\n",
      "\n",
      "}\n",
      "\n",
      "//Qua scriviamo la corrispondenza della funzione scritta in C e come la chiameremo in Py\n",
      "\n",
      "static PyMethodDef exmod_methods[] = {\n",
      "\t//\"Nome della Funzione  in Py\"\tNome Funz C,\tArgomenti da presentare,\tDescriz\n",
      "\t{\"somma\",\t\texmod_somma,\t\tMETH_VARARGS, \"Somma due numeri in C\"},\n",
      "\t{\"quadrato\",\t\texmod_quadrato,\t\tMETH_VARARGS, \"quadrato in C\"},\n",
      "\t{NULL, NULL,0,NULL}\t/*Sentinella*/\n",
      "};\n",
      "\n",
      "// Ora dobbiamo inizializzare la nostra funzione\n",
      "\n",
      "PyMODINIT_FUNC initexmod(void){\n",
      "\tPyObject *m;\n",
      "\tm = Py_InitModule(\"exmod\", exmod_methods);\n",
      "\tif(m==NULL) return;\n",
      "\texmodError = PyErr_NewException(\"exmod.error\", NULL, NULL); //\"exmod.errror\" object error\n",
      "\tPy_INCREF(exmodError);\n",
      "\n",
      "\tPyModule_AddObject(m, \"error\",exmodError);\n",
      "}\n",
      "\n",
      "\n",
      "#Abbiamo finito la nostra funzione in C, salvate questo testo come exmodmodule.c\n",
      "\n",
      "#Ora dobbiamo creare un file che ci permetta di installare queste funzioni, \n",
      "#questo file lo chiameremo setup.py\n",
      "\n",
      "from distutils.core import setup, Extension\n",
      "\n",
      "module1 = Extension('exmod',\n",
      "\tinclude_dirs = ['usr/local/include'],\n",
      "\tlibraries = ['pthread'],\n",
      "\tsources = ['exmodmodule.c'])\n",
      "\n",
      "setup (name = 'exmod',\n",
      "\tversion = '1.0',\n",
      "\tdescription = 'Tutorial per Fondamenti di Informatica',\n",
      "\tauthor = 'N. H. Minetti',\n",
      "\turl = 'http://www.facebook.com/minetz',\n",
      "\text_modules\n",
      " = [module1])\n",
      "\n",
      "#Una volta salvato questo file dobbiamo aprire il nostro terminale e installarle\n",
      "\n",
      "python setup.py build\n",
      "\n",
      "sudo python setup.py install\n",
      "\n",
      "#Completate queste operazioni possiamo passare a python\n",
      "#Ps. se non riuscite a compilare le funzioni C potete sempre continuare\n",
      "#questo tutorial sostituendo la funzione exmod.add con l'operatore somma di py"
     ],
     "language": "python",
     "metadata": {},
     "outputs": [
      {
       "ename": "SyntaxError",
       "evalue": "invalid syntax (<ipython-input-169-693040b76c30>, line 12)",
       "output_type": "pyerr",
       "traceback": [
        "\u001b[0;36m  File \u001b[0;32m\"<ipython-input-169-693040b76c30>\"\u001b[0;36m, line \u001b[0;32m12\u001b[0m\n\u001b[0;31m    (/Definiamo, un, nuovo, modulo, con, il, rispettivo, errore)\u001b[0m\n\u001b[0m     ^\u001b[0m\n\u001b[0;31mSyntaxError\u001b[0m\u001b[0;31m:\u001b[0m invalid syntax\n"
       ]
      }
     ],
     "prompt_number": 169
    },
    {
     "cell_type": "code",
     "collapsed": false,
     "input": [
      "import exmod #Importiamo le funzioni C create\n",
      "\n",
      "#Per poter rendere chiaro come funziona la memoria python \n",
      "\n",
      "listaM = [0]*100 #creaiamo una memoria virtuale\n",
      "print listaM             #Stampiamola\n",
      "\n",
      "    \n",
      "\n",
      "#La memoria in python viene gestita diversamente rispetto a C\n",
      "#perche, mentre in C ogni variabile dichiarata viene salvata indipendentemente\n",
      "#dalle altre, Python fa in modo che ogni valore salvato appaia solo una volta \n",
      "# e ora proviamo a simulare questo meccanismo in un modo semplificato\n"
     ],
     "language": "python",
     "metadata": {},
     "outputs": [
      {
       "output_type": "stream",
       "stream": "stdout",
       "text": [
        "[0, 0, 0, 0, 0, 0, 0, 0, 0, 0, 0, 0, 0, 0, 0, 0, 0, 0, 0, 0, 0, 0, 0, 0, 0, 0, 0, 0, 0, 0, 0, 0, 0, 0, 0, 0, 0, 0, 0, 0, 0, 0, 0, 0, 0, 0, 0, 0, 0, 0, 0, 0, 0, 0, 0, 0, 0, 0, 0, 0, 0, 0, 0, 0, 0, 0, 0, 0, 0, 0, 0, 0, 0, 0, 0, 0, 0, 0, 0, 0, 0, 0, 0, 0, 0, 0, 0, 0, 0, 0, 0, 0, 0, 0, 0, 0, 0, 0, 0, 0]\n"
       ]
      }
     ],
     "prompt_number": 170
    },
    {
     "cell_type": "code",
     "collapsed": false,
     "input": [
      "# Questa Funzione Trova il Primo indirizzo Libero della nostra memoria\n",
      "\n",
      "def TrovaIndirizzoLibero():\n",
      "    for count in range(0,len(listaM)):\n",
      "        if listaM[count] == 0:      \n",
      "            return count"
     ],
     "language": "python",
     "metadata": {},
     "outputs": [],
     "prompt_number": 134
    },
    {
     "cell_type": "code",
     "collapsed": false,
     "input": [
      "#Essa Serve per capire se il numero che vogliamo salvare e' gia presente\n",
      "        \n",
      "def EsisteGia(a):\n",
      "    for count in range(0,len(listaM)):\n",
      "         if listaM[count] == a:\n",
      "             return True\n",
      "            \n",
      "def IndirizzoDiEsisteGia(a):\n",
      "     for count in range(0,len(listaM)):\n",
      "         if listaM[count] == a:\n",
      "             return count\n",
      "            "
     ],
     "language": "python",
     "metadata": {},
     "outputs": [],
     "prompt_number": 158
    },
    {
     "cell_type": "code",
     "collapsed": false,
     "input": [
      "#Funzione che ci serve per salvare valori distinti\n",
      "    \n",
      "            \n",
      "def AllocInM(a):\n",
      "    if EsisteGia(a) == True:\n",
      "            print \"Esiste gia' in memoria il seguente numero, salviamo un puntatore\"\n",
      "            listaM[TrovaIndirizzoLibero()] = \"i\" + str(IndirizzoDiEsisteGia(a))\n",
      "            return 0\n",
      "    listaM[TrovaIndirizzoLibero()] = a\n",
      "    print \"E' stato salvato all'indirizzo: %d\" %TrovaIndirizzoLibero()\n",
      "    return 0\n"
     ],
     "language": "python",
     "metadata": {},
     "outputs": [],
     "prompt_number": 159
    },
    {
     "cell_type": "code",
     "collapsed": false,
     "input": [
      "def read(a):\n",
      "    if type(a) == int:\n",
      "        return a\n",
      "    if type(a) == float:\n",
      "        return a\n",
      "    if a[0] == 'i':\n",
      "        return listaM[int(a[1:len(a)])]\n",
      "    \n"
     ],
     "language": "python",
     "metadata": {},
     "outputs": [],
     "prompt_number": 160
    },
    {
     "cell_type": "code",
     "collapsed": false,
     "input": [
      "\n",
      "#Cancelliamo tutta la nostra memoria\n",
      "\n",
      "def CancellaTutto(listaM):\n",
      "    for count in range(0,len(listaM)):\n",
      "        listaM[count] = 0\n",
      "    return listaM\n"
     ],
     "language": "python",
     "metadata": {},
     "outputs": [],
     "prompt_number": 161
    },
    {
     "cell_type": "code",
     "collapsed": false,
     "input": [
      "\n",
      "#Liberiamo solo 1 posizione di memoria\n",
      "\n",
      "def CancellaCasella(a):\n",
      "    listaM[a] = 0\n",
      "    return 0\n"
     ],
     "language": "python",
     "metadata": {},
     "outputs": [],
     "prompt_number": 162
    },
    {
     "cell_type": "code",
     "collapsed": false,
     "input": [
      "#Test Generale\n",
      "CancellaTutto(listaM)      #Svuotiamo la memoria\n",
      "\n",
      "\n",
      "AllocInM(999)                #Inseriamo dei valori\n",
      "\n",
      "print listaM\n",
      "\n",
      "AllocInM(999)               #Se ripetiamo l'azione dovrebbe salvare un puntatore\n",
      "\n",
      "\n",
      "print listaM\n",
      "\n",
      "AllocInM(exmod.add(read(listaM[0]),read(listaM[1])))\n",
      "\n",
      "print listaM\n",
      "\n",
      "AllocInM(exmod.add(read(listaM[1]),read(listaM[2])))\n",
      "\n",
      "print listaM\n",
      "\n",
      "\n",
      "AllocInM(exmod.add(read(listaM[1]),read(listaM[3])))\n",
      "\n",
      "\n",
      "print listaM\n",
      "\n",
      "\n",
      "\n"
     ],
     "language": "python",
     "metadata": {},
     "outputs": [
      {
       "output_type": "stream",
       "stream": "stdout",
       "text": [
        "E' stato salvato all'indirizzo: 1\n",
        "[999, 0, 0, 0, 0, 0, 0, 0, 0, 0, 0, 0, 0, 0, 0, 0, 0, 0, 0, 0, 0, 0, 0, 0, 0, 0, 0, 0, 0, 0, 0, 0, 0, 0, 0, 0, 0, 0, 0, 0, 0, 0, 0, 0, 0, 0, 0, 0, 0, 0, 0, 0, 0, 0, 0, 0, 0, 0, 0, 0, 0, 0, 0, 0, 0, 0, 0, 0, 0, 0, 0, 0, 0, 0, 0, 0, 0, 0, 0, 0, 0, 0, 0, 0, 0, 0, 0, 0, 0, 0, 0, 0, 0, 0, 0, 0, 0, 0, 0, 0]\n",
        "Esiste gia' in memoria il seguente numero, salviamo un puntatore\n",
        "[999, 'i0', 0, 0, 0, 0, 0, 0, 0, 0, 0, 0, 0, 0, 0, 0, 0, 0, 0, 0, 0, 0, 0, 0, 0, 0, 0, 0, 0, 0, 0, 0, 0, 0, 0, 0, 0, 0, 0, 0, 0, 0, 0, 0, 0, 0, 0, 0, 0, 0, 0, 0, 0, 0, 0, 0, 0, 0, 0, 0, 0, 0, 0, 0, 0, 0, 0, 0, 0, 0, 0, 0, 0, 0, 0, 0, 0, 0, 0, 0, 0, 0, 0, 0, 0, 0, 0, 0, 0, 0, 0, 0, 0, 0, 0, 0, 0, 0, 0, 0]\n",
        "E' stato salvato all'indirizzo: 3\n",
        "[999, 'i0', 1998.0, 0, 0, 0, 0, 0, 0, 0, 0, 0, 0, 0, 0, 0, 0, 0, 0, 0, 0, 0, 0, 0, 0, 0, 0, 0, 0, 0, 0, 0, 0, 0, 0, 0, 0, 0, 0, 0, 0, 0, 0, 0, 0, 0, 0, 0, 0, 0, 0, 0, 0, 0, 0, 0, 0, 0, 0, 0, 0, 0, 0, 0, 0, 0, 0, 0, 0, 0, 0, 0, 0, 0, 0, 0, 0, 0, 0, 0, 0, 0, 0, 0, 0, 0, 0, 0, 0, 0, 0, 0, 0, 0, 0, 0, 0, 0, 0, 0]\n",
        "E' stato salvato all'indirizzo: 4\n",
        "[999, 'i0', 1998.0, 2997.0, 0, 0, 0, 0, 0, 0, 0, 0, 0, 0, 0, 0, 0, 0, 0, 0, 0, 0, 0, 0, 0, 0, 0, 0, 0, 0, 0, 0, 0, 0, 0, 0, 0, 0, 0, 0, 0, 0, 0, 0, 0, 0, 0, 0, 0, 0, 0, 0, 0, 0, 0, 0, 0, 0, 0, 0, 0, 0, 0, 0, 0, 0, 0, 0, 0, 0, 0, 0, 0, 0, 0, 0, 0, 0, 0, 0, 0, 0, 0, 0, 0, 0, 0, 0, 0, 0, 0, 0, 0, 0, 0, 0, 0, 0, 0, 0]\n",
        "E' stato salvato all'indirizzo: 5\n",
        "[999, 'i0', 1998.0, 2997.0, 3996.0, 0, 0, 0, 0, 0, 0, 0, 0, 0, 0, 0, 0, 0, 0, 0, 0, 0, 0, 0, 0, 0, 0, 0, 0, 0, 0, 0, 0, 0, 0, 0, 0, 0, 0, 0, 0, 0, 0, 0, 0, 0, 0, 0, 0, 0, 0, 0, 0, 0, 0, 0, 0, 0, 0, 0, 0, 0, 0, 0, 0, 0, 0, 0, 0, 0, 0, 0, 0, 0, 0, 0, 0, 0, 0, 0, 0, 0, 0, 0, 0, 0, 0, 0, 0, 0, 0, 0, 0, 0, 0, 0, 0, 0, 0, 0]\n"
       ]
      }
     ],
     "prompt_number": 168
    },
    {
     "cell_type": "code",
     "collapsed": false,
     "input": [
      "print type(listaM[0])    #Qui si vede chiaramente che i nostri puntatori\n",
      "print type(listaM[1])    # sono stringhe, mentre i numeri sono int o float\n",
      "print type(listaM[2])\n",
      "print type(listaM[3])"
     ],
     "language": "python",
     "metadata": {},
     "outputs": [
      {
       "output_type": "stream",
       "stream": "stdout",
       "text": [
        "<type 'int'>\n",
        "<type 'str'>\n",
        "<type 'float'>\n",
        "<type 'float'>\n"
       ]
      }
     ],
     "prompt_number": 164
    },
    {
     "cell_type": "code",
     "collapsed": false,
     "input": [],
     "language": "python",
     "metadata": {},
     "outputs": [],
     "prompt_number": 167
    },
    {
     "cell_type": "code",
     "collapsed": false,
     "input": [],
     "language": "python",
     "metadata": {},
     "outputs": [],
     "prompt_number": 165
    },
    {
     "cell_type": "code",
     "collapsed": false,
     "input": [],
     "language": "python",
     "metadata": {},
     "outputs": []
    }
   ],
   "metadata": {}
  }
 ]
}